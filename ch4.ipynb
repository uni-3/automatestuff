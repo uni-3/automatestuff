{
 "cells": [
  {
   "cell_type": "markdown",
   "metadata": {},
   "source": [
    "# 4.9 演習問題\n",
    "## 4-1\n",
    "[]はリストの空文字\n",
    "## 4-2\n",
    "```\n",
    "spam[2] = 'hello'\n",
    "```\n",
    "とすると３番目の要素の値にhelloが代入される\n",
    "## 4-3~5"
   ]
  },
  {
   "cell_type": "code",
   "execution_count": 11,
   "metadata": {
    "collapsed": true
   },
   "outputs": [
    {
     "name": "stdout",
     "output_type": "stream",
     "text": [
      "4-3:  d\n",
      "4-4:  d\n",
      "4-5:  ['a', 'b']\n"
     ]
    }
   ],
   "source": [
    "spam=['a', 'b', 'c', 'd']\n",
    "print('4-3: ', spam[int(int('3' * 2) / 11)]) # 33 / 11 \n",
    "print('4-4: ', spam[-1]) # d \n",
    "print('4-5: ', spam[:2]) # ab "
   ]
  },
  {
   "cell_type": "markdown",
   "metadata": {},
   "source": [
    "## 4-6~8"
   ]
  },
  {
   "cell_type": "code",
   "execution_count": 19,
   "metadata": {
    "collapsed": true
   },
   "outputs": [
    {
     "name": "stdout",
     "output_type": "stream",
     "text": [
      "4-6:  1\n",
      "4-7:  [3.14, 'cat', 11, 'cat', True, 99]\n",
      "4-8:  [3.14, 11, 'cat', True, 99]\n"
     ]
    }
   ],
   "source": [
    "bacon=[3.14, 'cat', 11, 'cat', True]\n",
    "print('4-6: ', bacon.index('cat') )\n",
    "bacon.append(99)\n",
    "print('4-7: ', bacon )\n",
    "bacon.remove('cat')\n",
    "print('4-8: ', bacon)"
   ]
  },
  {
   "cell_type": "markdown",
   "metadata": {},
   "source": [
    "## 4-9\n",
    "リストの結合は+　複製は*\n",
    "## 4-10\n",
    "list.append(val)はvalをlistの末尾に追加する。list.insert(index, val)はlistのindexの位置にvalを追加する\n",
    "## 4-11\n",
    "list.remove(val)か、del list[index]で削除できる\n",
    "## 4-12\n",
    "リストと文字列はlen()関数を持つ。複製と、結合の演算子が同じ。for文で１要素づつ参照できる。インデックスとスライスがある\n",
    "## 4-13\n",
    "リストはミュータブル。値の変更等できる。タプルはイミュータブル。値の変更ができない\n",
    "## 4-14\n",
    "42を要素にもつタプル：(42,)\n",
    "## 4-15\n",
    "tuple(list) list(tuple)で相互変換できる\n",
    "## 4-16\n",
    "リストを格納した変数は、そのリストへの参照を格納している。そのため変数を変更すると、リストも変更されることになる\n",
    "## 4-17\n",
    "copy.copy()は浅いコピー。リストの複製を行う。copy.deepcopy()は深いコピー。リスト中のリストも複製する"
   ]
  },
  {
   "cell_type": "code",
   "execution_count": 35,
   "metadata": {
    "collapsed": true
   },
   "outputs": [
    {
     "name": "stdout",
     "output_type": "stream",
     "text": [
      "b:  [[1, 2, 3], 4, 5]\n",
      "b:  [[0, 2, 3], 4, 5]\n",
      "b copy:  [[0, 2, 3], 0, 5]\n",
      "b deepcopy:  [[1, 0, 3], 4, 0]\n"
     ]
    }
   ],
   "source": [
    "import copy\n",
    "b = [[1,2,3],4,5]\n",
    "print(\"b: \", b)\n",
    "b_c = copy.copy(b)\n",
    "b_dc = copy.deepcopy(b)\n",
    "# copy()リストの浅い部分[1]は変更されない。元のリストに影響を及ぼさない\n",
    "# copy() リストの深い部分[0][0]は変更される。元のリストに影響を及ぼす \n",
    "b_c[1] = 0 \n",
    "b_c[0][0] = 0 \n",
    "# deepcopy() リストの浅い部分[2]は変更されない。元のリストに影響を及ぼさない \n",
    "# deepcopy() リストの深い部分[0][1]は変更されない。元のリストに影響を及ぼさない \n",
    "b_dc[2] = 0\n",
    "b_dc[0][1] = 0\n",
    "print(\"b: \", b)\n",
    "print(\"b copy: \", b_c)\n",
    "print(\"b deepcopy: \", b_dc)"
   ]
  },
  {
   "cell_type": "markdown",
   "metadata": {},
   "source": [
    "## 4.10.1"
   ]
  },
  {
   "cell_type": "code",
   "execution_count": 42,
   "metadata": {
    "collapsed": true
   },
   "outputs": [
    {
     "name": "stdout",
     "output_type": "stream",
     "text": [
      "apples, bananas, tofu, and cats\n"
     ]
    }
   ],
   "source": [
    "%run ch4-1.py"
   ]
  },
  {
   "cell_type": "code",
   "execution_count": 52,
   "metadata": {
    "collapsed": false
   },
   "outputs": [
    {
     "name": "stdout",
     "output_type": "stream",
     "text": [
      "..00.00..\n",
      ".0000000.\n",
      ".0000000.\n",
      "..00000..\n",
      "...000...\n",
      "....0....\n"
     ]
    }
   ],
   "source": [
    "%run ch4-2.py"
   ]
  },
  {
   "cell_type": "code",
   "execution_count": null,
   "metadata": {
    "collapsed": true
   },
   "outputs": [],
   "source": []
  },
  {
   "cell_type": "code",
   "execution_count": null,
   "metadata": {
    "collapsed": true
   },
   "outputs": [],
   "source": []
  }
 ],
 "metadata": {
  "anaconda-cloud": {},
  "kernelspec": {
   "display_name": "Python [conda root]",
   "language": "python",
   "name": "conda-root-py"
  },
  "language_info": {
   "codemirror_mode": {
    "name": "ipython",
    "version": 3
   },
   "file_extension": ".py",
   "mimetype": "text/x-python",
   "name": "python",
   "nbconvert_exporter": "python",
   "pygments_lexer": "ipython3",
   "version": "3.5.2"
  }
 },
 "nbformat": 4,
 "nbformat_minor": 1
}
