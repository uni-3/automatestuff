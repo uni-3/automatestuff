{
 "cells": [
  {
   "cell_type": "markdown",
   "metadata": {},
   "source": [
    "# 11.9\n",
    "## 11-1\n",
    "- webbrowser  \n",
    "pythonに組み込み済みのモジュール。指定したページをブラウザで開くことができる\n",
    "- requests  \n",
    "httpリクエストを送ることができる。ネット上のファイルやwebページを取得する\n",
    "- BeautifulSoup  \n",
    "htmlをパースする\n",
    "- selenium  \n",
    "ブラウザの操作を行うことができる。ブラウザの制御ができる"
   ]
  },
  {
   "cell_type": "markdown",
   "metadata": {},
   "source": [
    "## 11-2\n",
    "requests.get()はResponseオブジェクトを返す。text属性にページの内容が格納される\n",
    "## 11-3\n",
    "Responseオブジェクトのraise_for_status()メソッドにて、webページの取得に成功したかどうか調べることができる\n",
    "## 11-4\n",
    "Responseオブジェクトのstatus_code属性にて、httpステータスコードを確認できる\n",
    "## 11-5\n",
    "下コード参照"
   ]
  },
  {
   "cell_type": "code",
   "execution_count": 2,
   "metadata": {
    "collapsed": true
   },
   "outputs": [],
   "source": [
    "import requests\n",
    "res = requests.get('https://automatetheboringstuff.com/files/rj.txt')\n",
    "res.raise_for_status() # 成功したか確認\n",
    "file = open('rj.txt', 'wb') #  バイナリモードで書き込み用に開く。カレントディレクトリにhozonsareru\n",
    "for chunk in res.iter_content(100000):\n",
    "    file.write(chunk)\n",
    "file.close()"
   ]
  },
  {
   "cell_type": "markdown",
   "metadata": {},
   "source": [
    "## 11-6\n",
    "開発者ツールを開くには option+command+c をおす（macOS) \n",
    "## 11-7\n",
    "特定要素の情報を見たいときは要素上で右クリック→検証をおす\n",
    "## 11-8\n",
    "id mainを表すcssセレクタは `#main`  \n",
    "## 11-9\n",
    "class highlightを表すcssセレクタは `.highlight`\n",
    "## 11-10\n",
    "divの中にある全てのdivを表すcssセレクタは `div div`\n",
    "## 11-11\n",
    "value属性がfavoriteであるbuttonを表すcssセレクタは `button[value=\"favorite\"]`\n",
    "## 11-12\n",
    "spam.getText()でタグの中身を取り出せる\n",
    "## 11-13\n",
    "link_elem.attrsでタグの全ての属性を取り出せる\n",
    "## 11-14\n",
    "from selenium import webdriver\n",
    "## 11-15\n",
    "find_element_*メソッドは最初にマッチした要素をWebElementオブジェクトとして返す  \n",
    "find_elements_*メソッドはマッチした全ての要素をWebElementオブジェクトのリストとして返す\n",
    "## 11-16\n",
    "seleniumにてマウスクリックをシミュレートするのはclick()メソッド、キー入力はsend_keys()メソッド\n",
    "## 11-17\n",
    "seleniumにて、フォームの任意の要素に対してsubmit()メソッドを呼び出す\n",
    "## 11-18\n",
    "ブラウザのボタンをシミュレートするにはWebDriverオブジェクトのbrowser.*メソッドを呼び出す"
   ]
  },
  {
   "cell_type": "markdown",
   "metadata": {},
   "source": [
    "# 11.10 演習プロジェクト\n",
    "# 11.10.1 コマンドライン電子メーラ"
   ]
  },
  {
   "cell_type": "code",
   "execution_count": null,
   "metadata": {
    "collapsed": true
   },
   "outputs": [],
   "source": [
    "%run -i ch11-1.py"
   ]
  },
  {
   "cell_type": "code",
   "execution_count": null,
   "metadata": {
    "collapsed": true
   },
   "outputs": [],
   "source": [
    "%run -i ch11-2.py"
   ]
  }
 ],
 "metadata": {
  "anaconda-cloud": {},
  "kernelspec": {
   "display_name": "Python [conda root]",
   "language": "python",
   "name": "conda-root-py"
  },
  "language_info": {
   "codemirror_mode": {
    "name": "ipython",
    "version": 3
   },
   "file_extension": ".py",
   "mimetype": "text/x-python",
   "name": "python",
   "nbconvert_exporter": "python",
   "pygments_lexer": "ipython3",
   "version": "3.5.2"
  }
 },
 "nbformat": 4,
 "nbformat_minor": 1
}
