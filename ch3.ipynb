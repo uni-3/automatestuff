{
 "cells": [
  {
   "cell_type": "markdown",
   "metadata": {},
   "source": [
    "# 3.10 演習問題\n",
    "## 3-1\n",
    "関数を用いることで、繰り返し同じ処理をする時にコードの行数を少なくしたり、修正箇所が減るので、見通しの良いプログラムになる。\n",
    "## 3-2\n",
    "関数は関数が呼び出された時に実行される。\n",
    "## 3-3\n",
    "def文で関数は定義される\n",
    "## 3-4\n",
    "関数は関数の定義そのものを表す、def文とその中身。関数呼び出しは、関数の実行を表す、関数の実行文と戻り値\n",
    "## 3-5\n",
    "グルーバススコープは１つ、ローカルスコープは関数ごとに生じるため、無数に作成できる\n",
    "## 3-6\n",
    "関数から返るとローカルスコープはなくなり、変数も破棄される\n",
    "## 3-7\n",
    "戻り値とは関数が評価される値のこと。値なので式の一部になり得る\n",
    "## 3-8\n",
    "returnがない場合、戻り値はNoneになる\n",
    "## 3-9\n",
    "ローカルスコープ内にてグローバル値を参照するには global文を用いる\n",
    "## 3-10\n",
    "Noneのデータ型はNoteType\n",
    "## 3-11\n",
    "import xxxx はxxxxという名前のモジュールをインポートする\n",
    "## 3-12\n",
    "spamモジュールのbacon()関数は`spam.bacon()`で呼び出す\n",
    "## 3-13\n",
    "エラーになるかもしれない文をtry節中におく\n",
    "## 3-14\n",
    "try節に書いた文でエラーが起きたらexcept節が実行される"
   ]
  },
  {
   "cell_type": "markdown",
   "metadata": {},
   "source": [
    "## 3.11.1 コラッツ数列"
   ]
  },
  {
   "cell_type": "code",
   "execution_count": 10,
   "metadata": {
    "collapsed": false
   },
   "outputs": [
    {
     "name": "stdout",
     "output_type": "stream",
     "text": [
      "整数を入力してください\n",
      "feijrie\n",
      "整数を...\n",
      "193i193,\n",
      "整数を...\n",
      "22.3\n",
      "整数を...\n",
      "32\n",
      "1 回目の値は: 16\n",
      "2 回目の値は: 8\n",
      "3 回目の値は: 4\n",
      "4 回目の値は: 2\n",
      "5 回目の値は: 1\n"
     ]
    }
   ],
   "source": [
    "%run ch3.py"
   ]
  },
  {
   "cell_type": "code",
   "execution_count": null,
   "metadata": {
    "collapsed": true
   },
   "outputs": [],
   "source": []
  }
 ],
 "metadata": {
  "anaconda-cloud": {},
  "kernelspec": {
   "display_name": "Python [conda root]",
   "language": "python",
   "name": "conda-root-py"
  },
  "language_info": {
   "codemirror_mode": {
    "name": "ipython",
    "version": 3
   },
   "file_extension": ".py",
   "mimetype": "text/x-python",
   "name": "python",
   "nbconvert_exporter": "python",
   "pygments_lexer": "ipython3",
   "version": "3.5.2"
  }
 },
 "nbformat": 4,
 "nbformat_minor": 1
}
